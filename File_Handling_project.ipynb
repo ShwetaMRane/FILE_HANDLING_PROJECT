{
 "cells": [
  {
   "cell_type": "markdown",
   "id": "4b61538b-cf20-4341-a2d4-d3d9bfd1ea9f",
   "metadata": {},
   "source": [
    "# Introduction\r\n",
    "Efficient management of product information is essential for the success of e-commerce businesses. This information enables informed decision-making and facilitates effective marketing strategies. File handling plays a key role in being able to manage such data, and Python allows us to handle various file formats which are used to store such data.\r\n",
    "\r\n",
    "In this project, we are going to learn how to load, modify, and save files of three popular file formats which are used in the industry to handle data. These formats are:\r\n",
    "\r\n",
    "- **CSV**: CSV or comma-separated value files come with the file suffix *.csv* and, as the name suggests, have data values separated by commas. Each data entry is placed on a new line, and typically, the first line tends to store the names of columns. In our dataset, a CSV file is used to store sales values for each product over 14 days.\r\n",
    "\r\n",
    "- **JSON**: JSON or JavaScript object notation files come with the file suffix *.json* and store data as key-value pairs, similar to dictionaries in Python. In our dataset, JSON files are used to store details such as product names, prices, and brands.\r\n",
    "\r\n",
    "- **TXT**: TXT or text files come with the file suffix *.txt* and generally useful for storing single variables like strings or integers. In our dataset, TXT files are used to store descriptions of products."
   ]
  },
  {
   "cell_type": "markdown",
   "id": "0c892115-e281-4116-a4cd-27d1daab4150",
   "metadata": {},
   "source": [
    "# Problem Statement\r\n",
    "The goal is to read data from popular file formats (.csv, .txt, .json), to perform operations on this data, and to finally save this modified data into the original file formats."
   ]
  },
  {
   "cell_type": "markdown",
   "id": "836e50ad-6876-40b5-a1fe-80ad1fe16ca2",
   "metadata": {},
   "source": [
    "# Data Description\r\n",
    "The dataset for this project has been provided in the *mainfolder.zip* file. It contains data about products for which the unique ID provided is the stock keeping unit or SKU for short. The ZIP file contains a structured collection of sales data and product information organized into a main folder with three key components:\r\n",
    "\r\n",
    "- **Sales Data** (*sales_data.csv*): A CSV file that includes sales data for various products over a 14-day period. Each row corresponds to a different product, identified by a *Product_SKU*. The columns *Day1* through *Day14* represent the sales figures for each consecutive day.\r\n",
    "\r\n",
    "- **Product Descriptions** (*product_descriptions* folder): This folder contains text files, each corresponding to a specific product identified by the SKU in the filename (e.g., *description_AISJDKFJW93NJ.txt*). These files provide descriptive information about the products.\r\n",
    "\r\n",
    "- **Product Details** (*product_details* folder): This folder includes JSON files, again with filenames corresponding to product SKUs (e.g., *details_AISJDKFJW93NJ.json*). These files contain detailed attributes of the products, such as specifications, category, pricing, etc.\r\n",
    "\r\n",
    "This dataset is suitable for analyzing daily sales performance of products, supplemented with detailed product information and descriptions to allow for a comprehensive analysis of sales trends in relation to product attributes and descriptions."
   ]
  },
  {
   "cell_type": "markdown",
   "id": "8e7b6fb1-c597-4aba-92df-12d0431047c5",
   "metadata": {},
   "source": [
    "# Outline\r\n",
    "The overall objective of this project is to create a system for managing product information in an e-commerce platform. The different stages involved in the process are outlined below:\r\n",
    "\r\n",
    "- Stage 1 - Set up project and load data\r\n",
    "    - Task 1 - Import required modules\r\n",
    "    - Task 2 - Load the data\r\n",
    "- Stage 2 - Create or update data\r\n",
    "    - Task 3 - Add or update sales data\r\n",
    "    - Task 4 - Add or update product details\r\n",
    "    - Task 5 - Add or update product description\r\n",
    "    - Task 6 - Update function\r\n",
    "- Stage 3 - Save data to disk\r\n",
    "    - Task 7 - Save data to disk"
   ]
  },
  {
   "cell_type": "markdown",
   "id": "c7cc7008-ed00-43f1-866e-6f9e3cfccdc1",
   "metadata": {},
   "source": [
    "# Stage 1 - Set up project and load data\r\n",
    "In this stage, you will set up the environment for this assignment by loading the required modules and files. You will explore the files by displaying their content. You will achieve all of this by completing the following tasks:\r\n",
    "- Task 1 - Import required modules\r\n",
    "- Task 2 - Load the data"
   ]
  },
  {
   "cell_type": "markdown",
   "id": "ffb2bbc0-9602-4f5a-98ee-b6f09e9f3dd9",
   "metadata": {},
   "source": [
    "Import required modules"
   ]
  },
  {
   "cell_type": "markdown",
   "id": "b164d48f-b855-4a00-a312-99091e86e49f",
   "metadata": {},
   "source": [
    "### Description\n",
    "In this task, you will import all the necessary modules and packages required for performing various operations in the project."
   ]
  },
  {
   "cell_type": "markdown",
   "id": "6fe85a02-4810-4f18-8509-ee3c13bc6cff",
   "metadata": {},
   "source": [
    "### Requirements\r\n",
    "Write code to import packages:\r\n",
    "\r\n",
    "- For navigating through files stored on your device or on Google Colaboratory\r\n",
    "- For working with JSON files\r\n",
    "- For working with CSV files"
   ]
  },
  {
   "cell_type": "code",
   "execution_count": 40,
   "id": "f390fbfe-3b86-48ec-96bf-7ba4568ac19e",
   "metadata": {},
   "outputs": [],
   "source": [
    "# Use this cell to import all the required packages and methods\n",
    "\n",
    "# Import package for navigating through files stored on your device/on Google Colaboratory\n",
    "import os\n",
    "\n",
    "# Import package for working with JSON files\n",
    "import json\n",
    "\n",
    "# Import package for working with CSV files\n",
    "import csv"
   ]
  },
  {
   "cell_type": "markdown",
   "id": "62073fba-b05b-4c50-879a-2e4cf0c4324e",
   "metadata": {},
   "source": [
    "Load the data"
   ]
  },
  {
   "cell_type": "markdown",
   "id": "b35f44f4-982c-4ef8-8f62-e46ef56be10e",
   "metadata": {},
   "source": [
    "### Description\r\n",
    "In this task, you will write a function that ensures that the necessary files are loaded into the environment. To index the data, you will use a unique identifier called SKU.\r\n",
    "\r\n",
    "This includes loading sales data from a CSV file, product details from JSON files, and product descriptions from text files. We recommend that you either use Jupyter Notebook or Google Colab to build and execute your code."
   ]
  },
  {
   "cell_type": "markdown",
   "id": "b0238ce3-c39b-4e44-beac-7d9de4c54c09",
   "metadata": {},
   "source": [
    "### Requirements\n",
    "- In case you are using Google Colab:\n",
    "    - upload your files directly from your PC to colab or\n",
    "    - import `drive` from `google.colab` and mount your Google Drive\n",
    "- In case you are using Jupyter Notebook, please make sure that your files and folders are all in the right place.\n",
    "- Unzip the data and save the location of the main folder in a variable called `main_folder_address`.\n",
    "- Define a function `load_data()`:\n",
    "    - The function must read\n",
    "      - Sales data from *sales_data.csv* file,\n",
    "      - Product details from JSON files in the *product_details* folder, and\n",
    "      - Product descriptions from the TXT files in *product_descriptions* folder.\n",
    "      \n",
    "    - Once the data has been loaded, it must be stored in three dictionaries, one for sales data, another for product details, and another for product descriptions.\n",
    "    - The three dictionaries should have the product SKU as keys and:\n",
    "        - In the `product_details` dictionary, the values should also be dictionaries containing detailed attributes of the products, such as specifications, category, pricing, etc.\n",
    "        - In the `sales_data` dictionary, the values should be lists consisting of the sales data from the last 14 days.\n",
    "        - In the `product_descriptions` dictionary, the values should be strings in which the product description is saved.\n",
    "    - It should have the following keyword argument:\n",
    "        - *mainfolder*: A string that describes the address of the parent data folder in the memory.\n",
    "    - The functions should return a tuple containing three dictionaries:\n",
    "        - `product_details`: A dictionary of dictionaries where keys are product SKUs (extracted from the filenames of the JSON files) and values are product details loaded from the JSON files.\n",
    "        - `sales_data`: A dictionary where keys are product SKUs (from the CSV file) and values are lists of quantities corresponding to sales data.\n",
    "        - `product_descriptions`: A dictionary where keys are product SKUs (extracted from the filenames of the TXT files) and values are product descriptions loaded from TXT files."
   ]
  },
  {
   "cell_type": "markdown",
   "id": "2589d5f3-9be9-4172-8df4-230856da09cf",
   "metadata": {},
   "source": [
    "### Recommendations\r\n",
    "- If you are using Google Colab:\r\n",
    "  - Upload the zip file containing the files in Google Drive or upload the zip file directly to the Google Colab runtime.\r\n",
    "    - Then unzip it using `unzip` shell command which you can access using the `!` (exclamation mark) character.\r\n",
    "  - Once you have mounted Google Drive into your Google Colab VM or uploaded the zip file directly to the Google Colab runtime.\r\n",
    "    - You can use the *Files* section on the left to access the filesystem. You can right click on a file or folder to copy its path. This will be useful while specifying the source file in the `unzip` shell command.\r\n",
    "  - You will need to pass the location of the main folder into the `load_data()` function to load *sales_data.csv* file and the files in *product_details* and *product_description* folders.\r\n",
    "- Inside the `load_data()` function, you can:\r\n",
    "    - use the `csv.DictReader()` method to read the *sales_data.csv* file, and to store the data as dictionaries with key-value pairs where the keys correspond to the column names in the first row,\r\n",
    "    - use the `os.listdir()` method to obtain the names of the files and folders within a particular folder,\r\n",
    "    - use `os.path.join()` to construct file paths,\r\n",
    "    - use the `json.load()` method to load JSON files, and\r\n",
    "    - use the `open()` function to load the text files.\r\n",
    "-  As you need to use the SKUs as keys in all three dictionaries, you can ask a generative AI tool like ChatGPT on how to extract the SKU values in all three cases.\r\n",
    "    - In *sales_data.csv* they have been saved in a column titled *Product_SKU*\r\n",
    "    - For the other two, you need to extract the SKU from the file name: you must obtain the SKU which lies between the prefix and the suffix. Try using the in-built string function `split()` (additionally, you can use `replace()` if you wish to write the code in one line).\r\n",
    "    - Provide the data description and requirements to ChatGPT along with the libraries that you are using and ask it to generate code for the function.\r\n",
    "    - If you get stuck somewhere, you can ask ChatGPT to explain the code to you and you can make edits as required."
   ]
  },
  {
   "cell_type": "code",
   "execution_count": 47,
   "id": "c3540236-59db-40cb-a665-8c38743fd04f",
   "metadata": {},
   "outputs": [],
   "source": [
    "main_folder_addres = (r\"C:\\Users\\Shweta Rane\\Downloads\\mainfolder\")\n",
    "os.chdir(main_folder_addres)"
   ]
  },
  {
   "cell_type": "markdown",
   "id": "ec8b39ab-262c-4561-8fe2-a9e85b1fe2a1",
   "metadata": {},
   "source": [
    "Now define the *load_data()* function."
   ]
  },
  {
   "cell_type": "code",
   "execution_count": 49,
   "id": "b74b0e73-a5ab-4a00-991c-0db00e60b1d1",
   "metadata": {},
   "outputs": [],
   "source": [
    "def load_data(main_folder):\n",
    "    \"\"\"\n",
    "    Load product details, sales data, and product descriptions from files within the specified zip file.\n",
    "\n",
    "    Parameters:\n",
    "        main_folder (str): The path to the zip file containing the dataset.\n",
    "\n",
    "    Returns:\n",
    "        tuple: A tuple containing three dictionaries:\n",
    "            - product_details (dict): A dictionary of dictionaries where keys are product SKUs (extracted from the filenames of the JSON files)\n",
    "              and values are product details loaded from the JSON files.\n",
    "            - sales_data (dict): A dictionary where keys are product SKUs (from the CSV file) and values are lists\n",
    "              of quantities corresponding to sales data.\n",
    "            - product_descriptions (dict): A dictionary where keys are product SKUs (extracted from the filenames of the TXT files)\n",
    "              and values are product descriptions loaded from TXT files.\n",
    "    \"\"\"\n",
    "\n",
    "    # Define empty dictionaries to store our data\n",
    "    sales_data = {}\n",
    "    product_details = {}\n",
    "    product_descriptions = {}\n",
    "\n",
    "    # Load sales data from CSV file, mapping every SKU to a list of whole numbers for two weeks worth of sales data\n",
    "    csv_file_path = os.path.join(main_folder, 'sales_data.csv')\n",
    "    with open(csv_file_path, 'r') as csv_file:\n",
    "        csv_reader = csv.DictReader(csv_file)\n",
    "        for row in csv_reader:\n",
    "            sku = row['Product_SKU']  # this is the first column of the data, which can also be accessed as row[0]\n",
    "            quantities = [int(quantity) for quantity in list(row.values())[1:]]  # skip the first value (SKU) and convert the rest to integers\n",
    "            sales_data[sku] = quantities\n",
    "\n",
    "    # Load product details from JSON files\n",
    "    details_dir = os.path.join(main_folder, 'product_details')\n",
    "    for file_name in os.listdir(details_dir):\n",
    "        json_file_path = os.path.join(details_dir, file_name)\n",
    "        with open(json_file_path, 'r') as json_file:\n",
    "            # we can replace the \"_\" with \".\" and then split along \".\" to obtain the SKU at the first index\n",
    "            sku = file_name.replace(\"_\", \".\").split(\".\")[1]\n",
    "            product_details[sku] = json.load(json_file)\n",
    "\n",
    "    # Load product descriptions from TXT files\n",
    "    description_dir = os.path.join(main_folder, 'product_descriptions')\n",
    "    for file_name in os.listdir(description_dir):\n",
    "        txt_file_path = os.path.join(description_dir, file_name)\n",
    "        with open(txt_file_path, 'r') as txt_file:\n",
    "            sku = file_name.replace(\"_\", \".\").split(\".\")[1]\n",
    "            product_descriptions[sku] = txt_file.read()\n",
    "\n",
    "    return product_details, sales_data, product_descriptions"
   ]
  },
  {
   "cell_type": "code",
   "execution_count": 53,
   "id": "73f5b989-9796-4bcf-af15-d5147bd6989f",
   "metadata": {},
   "outputs": [
    {
     "name": "stdout",
     "output_type": "stream",
     "text": [
      "Files in the directory: ['product_descriptions', 'product_details', 'sales_data.csv']\n"
     ]
    }
   ],
   "source": [
    "import os\n",
    "\n",
    "main_folder_address = r\"C:\\Users\\Shweta Rane\\Downloads\\mainfolder\\mainfolder\"\n",
    "\n",
    "# List all files in the directory\n",
    "files = os.listdir(main_folder_address)\n",
    "print(\"Files in the directory:\", files)"
   ]
  },
  {
   "cell_type": "markdown",
   "id": "d1d1b5fe-ea76-43ee-9644-d34a7c2b8c16",
   "metadata": {},
   "source": [
    "### Checklist\r\n",
    "- Defined the `load_data()` function which takes in the given keyword arguments and returns the given variables.\r\n",
    "- Used the `load_data()` function to load data into `sales_data`, `product_details` and `product_descriptions`.\r\n",
    "- `sales_data, product_details` and `product_descriptions` are of the type `dict`.\r\n",
    "- Items in `sales_data, product_details`, and `product_descriptions` are as follows:\r\n",
    "    - `sales_data` contains product SKUs mapped to lists of whole numbers representing the amount of product sold per day,\r\n",
    "    - `product_details` contains product SKUs mapped to dictionaries containing various details such as product name, brand, model, specifications, price, and availability, and\r\n",
    "    - `product_descriptions` contains product SKUs mapped to strings representing descriptions of the corresponding products."
   ]
  },
  {
   "cell_type": "markdown",
   "id": "418c5523-ee7a-4aa7-b7bc-66b0163156ab",
   "metadata": {},
   "source": [
    "Update sales data"
   ]
  },
  {
   "cell_type": "markdown",
   "id": "de7b71df-f578-4b86-bc9f-90fdbca3f38d",
   "metadata": {},
   "source": [
    "### Description\r\n",
    "In this task, you will write a function to add sales data for a new product or update sales data for an existing product given the SKU and the quantities that need to be added or updated."
   ]
  },
  {
   "cell_type": "code",
   "execution_count": 61,
   "id": "fb6f3ee8-a250-4897-a9de-13b8fbcaa02f",
   "metadata": {},
   "outputs": [],
   "source": [
    "def update_sales_data(sales_data, sku, quantities):\n",
    "    \"\"\"\n",
    "    Add sales data for a new product SKU or update the sales data for an existing product SKU.\n",
    "\n",
    "    Parameters:\n",
    "        sales_data (dict): The dictionary containing sales data.\n",
    "        sku (str): The product SKU.\n",
    "        quantities (list of int): List of quantities sold for each of the past 14 days.\n",
    "\n",
    "    Returns:\n",
    "        dict: The updated sales data after adding the entry for the new SKU or modifying the entry for an existing SKU.\n",
    "    \"\"\"\n",
    "\n",
    "    # Directly add new entry to sales data dictionary\n",
    "    sales_data[sku] = quantities\n",
    "\n",
    "    return sales_data"
   ]
  },
  {
   "cell_type": "markdown",
   "id": "d01d8964-d60b-44cf-82b5-a26c836bf830",
   "metadata": {},
   "source": [
    "Check your code here."
   ]
  },
  {
   "cell_type": "code",
   "execution_count": 69,
   "id": "f198d6ae-f66f-4232-9a64-af513697cbe1",
   "metadata": {},
   "outputs": [
    {
     "name": "stdout",
     "output_type": "stream",
     "text": [
      "product_details: {'AISJDKFJW93NJ': {'product_name': 'Wall Art Print', 'brand': 'ArtCraft', 'model': 'NatureCanvas-1001', 'specifications': 'Canvas print, Ready to hang', 'price': '$49.99', 'availability': 'In stock'}, 'DJKFIEI432FIE': {'product_name': \"Men's Running Shoes\", 'brand': 'RunFit', 'model': 'SpeedX-500', 'specifications': 'Size 10, Lightweight design, Breathable material', 'price': '$79.99', 'availability': 'In stock'}, 'GGOENEBJ079499': {'product_name': 'Smartphone', 'brand': 'XYZ Electronics', 'model': 'ABC-2000', 'specifications': '6.5-inch display, 128GB storage, 16MP camera', 'price': '$499.99', 'availability': 'In stock'}, 'HJSKNWK429DJE': {'product_name': 'Wireless Earbuds', 'brand': 'SoundSync', 'model': 'TunePro-2022', 'specifications': 'Bluetooth 5.0, 20 hours battery life, Touch controls', 'price': '$89.99', 'availability': 'In stock'}, 'JFKL3940NFKLJ': {'product_name': 'Resistance Bands Set', 'brand': 'FitFlex', 'model': 'StrengthPro-300', 'specifications': '5 bands, Varying resistance levels, Portable', 'price': '$34.99', 'availability': 'In stock'}, 'LKDFJ49LSDJKL': {'product_name': 'Anti-Aging Face Cream', 'brand': 'GlowBeauty', 'model': 'AgeDefy-300', 'specifications': 'Natural ingredients, Hydrating formula', 'price': '$39.99', 'availability': 'In stock'}, 'MWKDI3JFK39SL': {'product_name': 'Fictional Novel', 'brand': 'BestBooks', 'model': None, 'specifications': 'Paperback, 300 pages', 'price': '$14.99', 'availability': 'In stock'}, 'NEKFJOWE9FDIW': {'product_name': 'Board Game', 'brand': 'FamilyFun', 'model': 'GameNight-2022', 'specifications': '2-6 players, Ages 8 and up', 'price': '$29.99', 'availability': 'In stock'}, 'OWEJL398FWJLK': {'product_name': 'Yoga Mat', 'brand': 'ZenFitness', 'model': 'EcoMat-500', 'specifications': 'Non-slip, 6mm thickness, Eco-friendly material', 'price': '$19.99', 'availability': 'In stock'}, 'XPLFJW2490XJN': {'product_name': 'Robot Vacuum Cleaner', 'brand': 'CleanTech', 'model': 'AutoSweep-9000', 'specifications': 'Smart navigation, HEPA filter, 90 minutes runtime', 'price': '$249.99', 'availability': 'In stock'}}\n",
      "sales_data: {'AISJDKFJW93NJ': [10, 12, 15, 18, 20, 22, 25, 28, 26, 30, 32, 29, 27, 24], 'DJKFIEI432FIE': [8, 10, 12, 15, 20, 18, 14, 13, 17, 10, 8, 11, 14, 16], 'GGOENEBJ079499': [15, 18, 22, 25, 28, 20, 17, 23, 19, 21, 24, 27, 18, 20], 'HJSKNWK429DJE': [30, 32, 35, 38, 40, 42, 45, 48, 50, 52, 55, 53, 49, 47], 'JFKL3940NFKLJ': [18, 20, 22, 25, 28, 30, 32, 35, 38, 36, 33, 29, 26, 24], 'LKDFJ49LSDJKL': [25, 28, 30, 32, 35, 38, 42, 40, 37, 34, 36, 31, 29, 27], 'MWKDI3JFK39SL': [30, 35, 40, 45, 50, 42, 37, 38, 41, 36, 33, 39, 40, 44], 'NEKFJOWE9FDIW': [12, 15, 18, 20, 22, 24, 21, 23, 25, 28, 30, 27, 26, 29], 'OWEJL398FWJLK': [20, 22, 25, 28, 30, 32, 35, 38, 36, 33, 29, 26, 24, 27], 'XPLFJW2490XJN': [5, 8, 9, 12, 15, 10, 14, 16, 20, 18, 22, 25, 19, 21]}\n",
      "product_descriptions: {'AISJDKFJW93NJ': \"Transform your living space with ArtCraft's NatureCanvas-1001 Wall Art Print.\\nThis canvas print, ready to hang, brings the beauty of nature into your home.\\nWith dimensions of 16 x 20 inches and a 4.6/5 stars rating, it's a stunning addition to your decor, creating a focal point that captures attention and sparks conversation.\", 'DJKFIEI432FIE': \"Elevate your running experience with the RunFit SpeedX-500 Men's Running Shoes.\\nDesigned for performance, these shoes feature a lightweight design, breathable material, and are available in vibrant Red, Blue, and classic Black.\\nWhether you're a seasoned runner or just starting, these shoes provide comfort and support for every stride, ensuring you reach new milestones effortlessly.\", 'GGOENEBJ079499': 'Dive into the future with the XYZ Electronics Smartphone, model ABC-2000.\\nBoasting a 6.5-inch display, 128GB storage, and a 16MP camera, this powerful device redefines the smartphone experience.\\nWith a sleek design and available in Black, Silver, and Blue, it combines cutting-edge technology with style, ensuring you stay connected in the most sophisticated way possible.', 'HJSKNWK429DJE': \"Immerse yourself in superior audio quality with SoundSync's TunePro-2022 Wireless Earbuds.\\nFeaturing Bluetooth 5.0, 20 hours of battery life, and touch controls, these earbuds deliver a seamless and immersive listening experience.\\nAvailable in Black and White, they combine style with functionality for music lovers on the go. \\nWith a 4.7/5 stars rating, they stand out as a top choice in the realm of wireless audio.\", 'JFKL3940NFKLJ': \"Embrace versatility in your workouts with FitFlex's StrengthPro-300 Resistance Bands Set.\\nWith 5 bands offering varying resistance levels and portability, this set is your go-to for effective strength training.\\nAvailable in Red, Yellow, and Blue, it caters to different fitness levels and adds a dynamic dimension to your exercise routine.\", 'LKDFJ49LSDJKL': \"Rediscover youthful radiance with GlowBeauty's AgeDefy-300 Anti-Aging Face Cream.\\nFormulated with natural ingredients and a hydrating formula, this skincare essential rejuvenates and nourishes your skin, leaving you with a vibrant and refreshed complexion.\\nWith a stellar 4.7/5 stars rating, it's a must-have for those embracing the journey to ageless beauty.\", 'MWKDI3JFK39SL': \"Immerse yourself in the world of storytelling with BestBooks' Fictional Novel.\\nThis paperback, spanning 300 pages, promises a captivating journey through the pages of an engaging narrative.\\nIdeal for avid readers seeking an escape, this novel, with a 4.6/5 stars rating, is a testament to its ability to weave a compelling tale that keeps you hooked until the last page.\", 'NEKFJOWE9FDIW': \"Unleash the fun with FamilyFun's GameNight-2022 Board Game.\\nDesigned for 2-6 players and suitable for ages 8 and up, this exciting game promises laughter and bonding moments for the entire family.\\nWith a 4.4/5 stars rating, it's a testament to its ability to turn any ordinary night into an extraordinary game night filled with friendly competition and shared joy.\", 'OWEJL398FWJLK': \"Elevate your yoga practice with ZenFitness' EcoMat-500 Yoga Mat.\\nFeaturing a non-slip surface, 6mm thickness, and eco-friendly materials, this high-quality mat provides the perfect foundation for your workouts.\\nAvailable in Purple, Green, and Blue, it not only enhances your comfort but also adds a touch of serenity to your exercise routine.\", 'XPLFJW2490XJN': 'Introducing the CleanTech AutoSweep-9000 Robot Vacuum Cleaner â€“ your smart companion for automated cleaning.\\nWith smart navigation, a HEPA filter, and a runtime of 90 minutes, this efficient device takes care of your cleaning needs.\\nAvailable in White and Silver, it blends seamlessly into your home, making cleanliness a hassle-free experience.'}\n"
     ]
    }
   ],
   "source": [
    "# Define the main folder path\n",
    "main_folder_address = r\"C:\\Users\\Shweta Rane\\Downloads\\mainfolder\\mainfolder\"\n",
    "\n",
    "# Load the data\n",
    "product_details, sales_data, product_descriptions = load_data(main_folder_address)\n",
    "\n",
    "# Check loaded data\n",
    "print(\"product_details:\", product_details)\n",
    "print(\"sales_data:\", sales_data)\n",
    "print(\"product_descriptions:\", product_descriptions)"
   ]
  },
  {
   "cell_type": "code",
   "execution_count": 72,
   "id": "aed1892e-a2e1-4e88-a4b5-4e49dde42fa9",
   "metadata": {},
   "outputs": [
    {
     "data": {
      "text/plain": [
       "{'AISJDKFJW93NJ': [10, 12, 15, 18, 20, 22, 25, 28, 26, 30, 32, 29, 27, 24],\n",
       " 'DJKFIEI432FIE': [8, 10, 12, 15, 20, 18, 14, 13, 17, 10, 8, 11, 14, 16],\n",
       " 'GGOENEBJ079499': [15, 18, 22, 25, 28, 20, 17, 23, 19, 21, 24, 27, 18, 20],\n",
       " 'HJSKNWK429DJE': [30, 32, 35, 38, 40, 42, 45, 48, 50, 52, 55, 53, 49, 47],\n",
       " 'JFKL3940NFKLJ': [18, 20, 22, 25, 28, 30, 32, 35, 38, 36, 33, 29, 26, 24],\n",
       " 'LKDFJ49LSDJKL': [25, 28, 30, 32, 35, 38, 42, 40, 37, 34, 36, 31, 29, 27],\n",
       " 'MWKDI3JFK39SL': [30, 35, 40, 45, 50, 42, 37, 38, 41, 36, 33, 39, 40, 44],\n",
       " 'NEKFJOWE9FDIW': [12, 15, 18, 20, 22, 24, 21, 23, 25, 28, 30, 27, 26, 29],\n",
       " 'OWEJL398FWJLK': [20, 22, 25, 28, 30, 32, 35, 38, 36, 33, 29, 26, 24, 27],\n",
       " 'XPLFJW2490XJN': [5, 8, 9, 12, 15, 10, 14, 16, 20, 18, 22, 25, 19, 21],\n",
       " 'CMWKCILOP27KF': [8, 14, 16, 7, 15, 21, 14, 16, 32, 29, 26, 30, 25, 22]}"
      ]
     },
     "execution_count": 72,
     "metadata": {},
     "output_type": "execute_result"
    }
   ],
   "source": [
    "sales_data = update_sales_data(sales_data,\n",
    "                            'CMWKCILOP27KF',\n",
    "                             [8, 14, 16, 7, 15, 21, 14, 16, 32, 29, 26, 30, 25, 22])\n",
    "sales_data"
   ]
  },
  {
   "cell_type": "markdown",
   "id": "0d087608-20c8-42b5-b487-bfdfafc0256c",
   "metadata": {},
   "source": [
    "### Checklist\n",
    "- Function `update_sales_data()` defined.\n",
    "- Modified the `sales_data` dictionary to reflect the newly added or updated product.\n",
    "- Updated `sales_data` dictionary returned."
   ]
  },
  {
   "cell_type": "markdown",
   "id": "8e4574a2-2c66-41e6-a423-70df463317df",
   "metadata": {},
   "source": [
    " Update product details"
   ]
  },
  {
   "cell_type": "code",
   "execution_count": 76,
   "id": "24a945ab-d2ad-47c9-9b7f-0640382ae655",
   "metadata": {},
   "outputs": [],
   "source": [
    "def update_product_details(product_details, sku, product_info):\n",
    "    \"\"\"\n",
    "    Create a new product/update an existing product details entry in the product details dictionary using the provided product information.\n",
    "\n",
    "    Parameters:\n",
    "        product_details (dict): The dictionary containing product details.\n",
    "        sku (str): The product SKU.\n",
    "        product_info (dict): A dictionary containing the details of the product, such as product name, brand, model, specifications, price, and availability.\n",
    "\n",
    "    Returns:\n",
    "        dict: The updated product details with the new or updated product entry.\n",
    "    \"\"\"\n",
    "\n",
    "    # Add the new product details to the product details dictionary using the SKU as the key\n",
    "    product_details[sku] = product_info\n",
    "\n",
    "    return product_details"
   ]
  },
  {
   "cell_type": "markdown",
   "id": "afc9f164-98cf-42ae-be87-bf6744fb9f0d",
   "metadata": {},
   "source": [
    "Check your code here."
   ]
  },
  {
   "cell_type": "code",
   "execution_count": 78,
   "id": "2ea6b1a3-f7e4-408b-beb0-0ae113061531",
   "metadata": {},
   "outputs": [
    {
     "data": {
      "text/plain": [
       "{'AISJDKFJW93NJ': {'product_name': 'Wall Art Print',\n",
       "  'brand': 'ArtCraft',\n",
       "  'model': 'NatureCanvas-1001',\n",
       "  'specifications': 'Canvas print, Ready to hang',\n",
       "  'price': '$49.99',\n",
       "  'availability': 'In stock'},\n",
       " 'DJKFIEI432FIE': {'product_name': \"Men's Running Shoes\",\n",
       "  'brand': 'RunFit',\n",
       "  'model': 'SpeedX-500',\n",
       "  'specifications': 'Size 10, Lightweight design, Breathable material',\n",
       "  'price': '$79.99',\n",
       "  'availability': 'In stock'},\n",
       " 'GGOENEBJ079499': {'product_name': 'Smartphone',\n",
       "  'brand': 'XYZ Electronics',\n",
       "  'model': 'ABC-2000',\n",
       "  'specifications': '6.5-inch display, 128GB storage, 16MP camera',\n",
       "  'price': '$499.99',\n",
       "  'availability': 'In stock'},\n",
       " 'HJSKNWK429DJE': {'product_name': 'Wireless Earbuds',\n",
       "  'brand': 'SoundSync',\n",
       "  'model': 'TunePro-2022',\n",
       "  'specifications': 'Bluetooth 5.0, 20 hours battery life, Touch controls',\n",
       "  'price': '$89.99',\n",
       "  'availability': 'In stock'},\n",
       " 'JFKL3940NFKLJ': {'product_name': 'Resistance Bands Set',\n",
       "  'brand': 'FitFlex',\n",
       "  'model': 'StrengthPro-300',\n",
       "  'specifications': '5 bands, Varying resistance levels, Portable',\n",
       "  'price': '$34.99',\n",
       "  'availability': 'In stock'},\n",
       " 'LKDFJ49LSDJKL': {'product_name': 'Anti-Aging Face Cream',\n",
       "  'brand': 'GlowBeauty',\n",
       "  'model': 'AgeDefy-300',\n",
       "  'specifications': 'Natural ingredients, Hydrating formula',\n",
       "  'price': '$39.99',\n",
       "  'availability': 'In stock'},\n",
       " 'MWKDI3JFK39SL': {'product_name': 'Fictional Novel',\n",
       "  'brand': 'BestBooks',\n",
       "  'model': None,\n",
       "  'specifications': 'Paperback, 300 pages',\n",
       "  'price': '$14.99',\n",
       "  'availability': 'In stock'},\n",
       " 'NEKFJOWE9FDIW': {'product_name': 'Board Game',\n",
       "  'brand': 'FamilyFun',\n",
       "  'model': 'GameNight-2022',\n",
       "  'specifications': '2-6 players, Ages 8 and up',\n",
       "  'price': '$29.99',\n",
       "  'availability': 'In stock'},\n",
       " 'OWEJL398FWJLK': {'product_name': 'Yoga Mat',\n",
       "  'brand': 'ZenFitness',\n",
       "  'model': 'EcoMat-500',\n",
       "  'specifications': 'Non-slip, 6mm thickness, Eco-friendly material',\n",
       "  'price': '$19.99',\n",
       "  'availability': 'In stock'},\n",
       " 'XPLFJW2490XJN': {'product_name': 'Robot Vacuum Cleaner',\n",
       "  'brand': 'CleanTech',\n",
       "  'model': 'AutoSweep-9000',\n",
       "  'specifications': 'Smart navigation, HEPA filter, 90 minutes runtime',\n",
       "  'price': '$249.99',\n",
       "  'availability': 'In stock'},\n",
       " 'CMWKCILOP27KF': {'product_name': 'Pokemon Card',\n",
       "  'brand': 'GameFreak',\n",
       "  'model': 'ScarletViolet151',\n",
       "  'specifications': 'Genuine, TCG, English',\n",
       "  'price': '$1.99',\n",
       "  'availability': 'In stock'}}"
      ]
     },
     "execution_count": 78,
     "metadata": {},
     "output_type": "execute_result"
    }
   ],
   "source": [
    "product_details = update_product_details(product_details,\n",
    "                                 'CMWKCILOP27KF',\n",
    "                                  {'product_name': 'Pokemon Card',\n",
    "                                   'brand': 'GameFreak',\n",
    "                                   'model': 'ScarletViolet151',\n",
    "                                   'specifications': 'Genuine, TCG, English',\n",
    "                                   'price': '$1.99',\n",
    "                                   'availability': 'In stock'})\n",
    "product_details"
   ]
  },
  {
   "cell_type": "markdown",
   "id": "c0c4d3ba-382d-4717-8237-459710a95a7e",
   "metadata": {},
   "source": [
    "### Checklist\n",
    "- Function `update_product_details()` defined.\n",
    "- Modified the `product_details` dictionary to reflect the newly added or updated product.\n",
    "- Updated `product_details` dictionary returned."
   ]
  },
  {
   "cell_type": "markdown",
   "id": "5378e9d2-ef3b-4d73-a47e-502acf5a1824",
   "metadata": {},
   "source": [
    "Update product description"
   ]
  },
  {
   "cell_type": "code",
   "execution_count": 83,
   "id": "48db6b7a-c046-45e5-ae4c-1cbab09d5cba",
   "metadata": {},
   "outputs": [],
   "source": [
    "def update_product_description(product_descriptions, sku, description):\n",
    "    \"\"\"\n",
    "    Adds a new product/updates an existing product description to the product descriptions dictionary using the provided SKU as the key.\n",
    "\n",
    "    Parameters:\n",
    "        product_descriptions (dict): The dictionary containing existing product descriptions.\n",
    "        sku (str): The product SKU.\n",
    "        description (str): The description of the product.\n",
    "\n",
    "    Returns:\n",
    "        dict: The updated product descriptions dictionary with the new or updated product description.\n",
    "    \"\"\"\n",
    "\n",
    "    # Add the new product description to the dictionary\n",
    "    product_descriptions[sku] = description\n",
    "\n",
    "    return product_descriptions"
   ]
  },
  {
   "cell_type": "code",
   "execution_count": null,
   "id": "724f56e7-815d-4135-be30-f5cd17dc2aad",
   "metadata": {},
   "outputs": [],
   "source": []
  },
  {
   "cell_type": "markdown",
   "id": "17c2c6c0-6743-4aeb-a3b5-932a61d412d3",
   "metadata": {},
   "source": [
    "Check your code here."
   ]
  },
  {
   "cell_type": "code",
   "execution_count": 86,
   "id": "3a07b153-001d-45f8-824f-44ca3941e973",
   "metadata": {},
   "outputs": [
    {
     "data": {
      "text/plain": [
       "{'AISJDKFJW93NJ': \"Transform your living space with ArtCraft's NatureCanvas-1001 Wall Art Print.\\nThis canvas print, ready to hang, brings the beauty of nature into your home.\\nWith dimensions of 16 x 20 inches and a 4.6/5 stars rating, it's a stunning addition to your decor, creating a focal point that captures attention and sparks conversation.\",\n",
       " 'DJKFIEI432FIE': \"Elevate your running experience with the RunFit SpeedX-500 Men's Running Shoes.\\nDesigned for performance, these shoes feature a lightweight design, breathable material, and are available in vibrant Red, Blue, and classic Black.\\nWhether you're a seasoned runner or just starting, these shoes provide comfort and support for every stride, ensuring you reach new milestones effortlessly.\",\n",
       " 'GGOENEBJ079499': 'Dive into the future with the XYZ Electronics Smartphone, model ABC-2000.\\nBoasting a 6.5-inch display, 128GB storage, and a 16MP camera, this powerful device redefines the smartphone experience.\\nWith a sleek design and available in Black, Silver, and Blue, it combines cutting-edge technology with style, ensuring you stay connected in the most sophisticated way possible.',\n",
       " 'HJSKNWK429DJE': \"Immerse yourself in superior audio quality with SoundSync's TunePro-2022 Wireless Earbuds.\\nFeaturing Bluetooth 5.0, 20 hours of battery life, and touch controls, these earbuds deliver a seamless and immersive listening experience.\\nAvailable in Black and White, they combine style with functionality for music lovers on the go. \\nWith a 4.7/5 stars rating, they stand out as a top choice in the realm of wireless audio.\",\n",
       " 'JFKL3940NFKLJ': \"Embrace versatility in your workouts with FitFlex's StrengthPro-300 Resistance Bands Set.\\nWith 5 bands offering varying resistance levels and portability, this set is your go-to for effective strength training.\\nAvailable in Red, Yellow, and Blue, it caters to different fitness levels and adds a dynamic dimension to your exercise routine.\",\n",
       " 'LKDFJ49LSDJKL': \"Rediscover youthful radiance with GlowBeauty's AgeDefy-300 Anti-Aging Face Cream.\\nFormulated with natural ingredients and a hydrating formula, this skincare essential rejuvenates and nourishes your skin, leaving you with a vibrant and refreshed complexion.\\nWith a stellar 4.7/5 stars rating, it's a must-have for those embracing the journey to ageless beauty.\",\n",
       " 'MWKDI3JFK39SL': \"Immerse yourself in the world of storytelling with BestBooks' Fictional Novel.\\nThis paperback, spanning 300 pages, promises a captivating journey through the pages of an engaging narrative.\\nIdeal for avid readers seeking an escape, this novel, with a 4.6/5 stars rating, is a testament to its ability to weave a compelling tale that keeps you hooked until the last page.\",\n",
       " 'NEKFJOWE9FDIW': \"Unleash the fun with FamilyFun's GameNight-2022 Board Game.\\nDesigned for 2-6 players and suitable for ages 8 and up, this exciting game promises laughter and bonding moments for the entire family.\\nWith a 4.4/5 stars rating, it's a testament to its ability to turn any ordinary night into an extraordinary game night filled with friendly competition and shared joy.\",\n",
       " 'OWEJL398FWJLK': \"Elevate your yoga practice with ZenFitness' EcoMat-500 Yoga Mat.\\nFeaturing a non-slip surface, 6mm thickness, and eco-friendly materials, this high-quality mat provides the perfect foundation for your workouts.\\nAvailable in Purple, Green, and Blue, it not only enhances your comfort but also adds a touch of serenity to your exercise routine.\",\n",
       " 'XPLFJW2490XJN': 'Introducing the CleanTech AutoSweep-9000 Robot Vacuum Cleaner â€“ your smart companion for automated cleaning.\\nWith smart navigation, a HEPA filter, and a runtime of 90 minutes, this efficient device takes care of your cleaning needs.\\nAvailable in White and Silver, it blends seamlessly into your home, making cleanliness a hassle-free experience.',\n",
       " 'CMWKCILOP27KF': 'Original Pokemon TCG Pikachu card'}"
      ]
     },
     "execution_count": 86,
     "metadata": {},
     "output_type": "execute_result"
    }
   ],
   "source": [
    "product_descriptions = update_product_description(product_descriptions,\n",
    "                                      'CMWKCILOP27KF',\n",
    "                                      'Original Pokemon TCG Pikachu card')\n",
    "product_descriptions"
   ]
  },
  {
   "cell_type": "markdown",
   "id": "81e472df-a6eb-4b0b-87f5-3d33d34d1fcd",
   "metadata": {},
   "source": [
    "### Checklist\n",
    "- Function `update_product_description()` defined\n",
    "- Modified `product_descriptions` dictionary to reflect the newly added or updated description.\n",
    "- Updated `product_descriptions` dictionary returned"
   ]
  },
  {
   "cell_type": "code",
   "execution_count": null,
   "id": "5158aab4-da9a-413f-9226-897226c09507",
   "metadata": {},
   "outputs": [],
   "source": [
    " Update function"
   ]
  },
  {
   "cell_type": "markdown",
   "id": "ee281d69-704f-45a0-91bf-44e4d3addf22",
   "metadata": {},
   "source": [
    "### Requirements\n",
    "- Define a function named `update()` that collects comprehensive information about a new or existing product from the user, validates the input, and modifies the respective dictionaries with product details, sales data, and product descriptions to reflect the addition or update of the provided product.\n",
    "- The function should accept three parameters:\n",
    "  - `product_details`: A dictionary containing product details. Each entry maps an SKU to its corresponding product details.\n",
    "  - `sales_data`: A dictionary containing sales data. Each entry maps an SKU to a list of sales quantities for the last 14 days.\n",
    "  - `product_descriptions`: A dictionary containing product descriptions. Each entry maps an SKU to its corresponding textual description.\n",
    "- The function performs several operations:\n",
    "  - Prompts the user to input the SKU, which must be exactly 13 characters long. If the SKU does not meet this requirement, print an error message and terminate the function without updating any dictionaries.\n",
    "  - Prompts the user to enter sales data for the last 14 days, which must consist of exactly 14 whole numbers separated by spaces. If the input does not meet this criterion, print an error message and terminate the function without updating any dictionaries.\n",
    "  - Collects product details from the user, including name, brand, model, specifications, price, and availability. These inputs are required but not subject to specific validation criteria for this function.\n",
    "  - Prompts the user for a product description, which is also required for successful product registration.\n",
    "- If all inputs are validated successfully, the function updates the `product_details`, `sales_data`, and `product_descriptions` dictionaries with the provided product information and prints a success message.\n",
    "- Returns a tuple containing the updated `product_details`, `sales_data`, and `product_descriptions` dictionaries in that order.\n",
    "- The function is designed for use when a new product is to be added to the system or when an existing product in the system needs to be updated, and requires the caller to pass the current state of the `product_details`, `sales_data`, and `product_descriptions` dictionaries."
   ]
  },
  {
   "cell_type": "markdown",
   "id": "fbb97e83-3f15-4c1a-92ad-f71ddef7a360",
   "metadata": {},
   "source": [
    "### Recommendations\n",
    "- You can use if-else statements to check the validity of the data inputted by the user.\n",
    "- Use a list comprehension to prepare the sales data before saving it in the dictionary.\n",
    "- Use the previously defined functions to perform the actions after validating user's input."
   ]
  },
  {
   "cell_type": "code",
   "execution_count": 93,
   "id": "cda00954-b1f2-4d3f-bdf1-65be9f723ae1",
   "metadata": {},
   "outputs": [],
   "source": [
    "def update(product_details, sales_data, product_descriptions):\n",
    "    \"\"\"\n",
    "    Collects comprehensive information about a new or existing product from the user, validates the input, and updates the respective dictionaries with product details, sales data, and descriptions.\n",
    "\n",
    "    This function performs a series of prompts to the user to input the SKU, sales data for the last 14 days, product details (including name, brand, model, specifications, price, and availability), and a product description. Each input is validated for specific criteria:\n",
    "\n",
    "    - The SKU must be exactly 13 characters long.\n",
    "    - Sales data must consist of exactly 14 whole numbers, representing sales for the last 14 days.\n",
    "    - Product details and description inputs are collected without specific validation but are required for successful product registration.\n",
    "\n",
    "    If any validation fails, the function prints an error message and terminates without updating any of the dictionaries, ensuring data integrity and consistency across product records.\n",
    "\n",
    "    Parameters:\n",
    "        product_details (dict): A dictionary containing existing product details. Each entry maps an SKU to its corresponding product details.\n",
    "        sales_data (dict): A dictionary containing sales data. Each entry maps an SKU to a list of sales quantities for the last 14 days.\n",
    "        product_descriptions (dict): A dictionary containing product descriptions. Each entry maps an SKU to its corresponding textual description.\n",
    "\n",
    "    Returns:\n",
    "        tuple: A tuple containing the updated dictionaries (product_details, sales_data, product_descriptions) in that order.\n",
    "\n",
    "    Usage:\n",
    "        The function is designed to be called when a new product is to be added to the system or an existing one in the system is to be updated. It requires the caller to pass the current state of the product_details, sales_data, and product_descriptions dictionaries, and returns their updated states.\n",
    "    \"\"\"\n",
    "\n",
    "    sku = input('Enter the product SKU: ')\n",
    "    if len(sku) != 13:\n",
    "        print('Invalid SKU. The SKU must be exactly 13 characters long.')\n",
    "        return product_details, sales_data, product_descriptions\n",
    "\n",
    "    sales_input = input('Enter sales data for the last 14 days, separated by space: ')\n",
    "    sales_quantities = sales_input.split()\n",
    "    if not (len(sales_quantities) == 14 and all(x.isdigit() for x in sales_quantities)) and all(x>=0 for x in sales_quantities):\n",
    "        print('Invalid sales data. Please ensure you enter exactly 14 whole numbers.')\n",
    "        return product_details, sales_data, product_descriptions\n",
    "    sales_quantities = [int(x) for x in sales_quantities]\n",
    "\n",
    "    product_name = input('Enter the product name: ')\n",
    "    brand = input('Enter the brand: ')\n",
    "    model = input('Enter the model: ')\n",
    "    specifications = input('Enter the specifications: ')\n",
    "    price = input('Enter the price: ')\n",
    "    availability = input('Enter the availability: ')\n",
    "    product_info = {\n",
    "        'product_name': product_name,\n",
    "        'brand': brand,\n",
    "        'model': model,\n",
    "        'specifications': specifications,\n",
    "        'price': price,\n",
    "        'availability': availability\n",
    "    }\n",
    "\n",
    "    description = input('Enter the product description: ')\n",
    "\n",
    "    # Assuming all inputs are now valid, call the functions to add the data\n",
    "    sales_data = update_sales_data(sales_data, sku, sales_quantities)\n",
    "    product_details = update_product_details(product_details, sku, product_info)\n",
    "    product_descriptions = update_product_description(product_descriptions, sku, description)\n",
    "\n",
    "    # Print a single success message after all data has been successfully added\n",
    "    print('All product information for the new product was added successfully!')\n",
    "\n",
    "    return product_details, sales_data, product_descriptions"
   ]
  },
  {
   "cell_type": "markdown",
   "id": "47fad409-9e6e-43c1-9f89-f0fe9a872ea8",
   "metadata": {},
   "source": [
    "Check your code here."
   ]
  },
  {
   "cell_type": "code",
   "execution_count": 102,
   "id": "35563990-5e8c-4ecd-9ed5-8a4c8f4ff8ad",
   "metadata": {},
   "outputs": [
    {
     "name": "stdin",
     "output_type": "stream",
     "text": [
      "Enter the product SKU:  CMWKCILOP27KF\n",
      "Enter sales data for the last 14 days, separated by space:   8 14 16 7 15 21 14 16 32 29 26 30 25 22\n",
      "Enter the product name:   Pokemon Card\n",
      "Enter the brand:   GameFreak\n",
      "Enter the model:  ScarletViolet151\n",
      "Enter the specifications:   Genuine, TCG, English\n",
      "Enter the price:   $1.99\n",
      "Enter the availability:   In stock\n",
      "Enter the product description:  Original Pokemon TCG Pikachu card\n"
     ]
    },
    {
     "name": "stdout",
     "output_type": "stream",
     "text": [
      "All product information for the new product was added successfully!\n"
     ]
    }
   ],
   "source": [
    "product_details, sales_data, product_descriptions = update(product_details, sales_data, product_descriptions)"
   ]
  },
  {
   "cell_type": "markdown",
   "id": "d3a3e566-f37d-4262-8ff2-f456a9d5c357",
   "metadata": {},
   "source": [
    "### Checklist\n",
    "- Prompt for and validate SKU length (13 characters).\n",
    "- Collected sales data for 14 days and ensure it includes exactly 14 whole numbers.\n",
    "- Gathered product name, brand, model, specifications, price, and availability.\n",
    "- Collected a textual description of the product.\n",
    "- Updated `product_details`, `sales_data`, and `product_descriptions` dictionaries after successful data validation.\n",
    "- Returned the updated dictionaries in the correct order.\n",
    "- Performed all validations before dictionary updates to maintain data integrity."
   ]
  },
  {
   "cell_type": "markdown",
   "id": "bac12df4-6610-4c79-8640-16371bbacebd",
   "metadata": {},
   "source": [
    "Save data to disk\n",
    "In the this stage, learners are tasked with creating a `dump_data()` function which will allow the newly modified files to be saved in their corresponding file formats: CSV for sales data, JSON for product details, and plain text (.txt) for product descriptions.\n",
    "\n",
    "You will achieve this by completing the following task:\n",
    " Save data to disk"
   ]
  },
  {
   "cell_type": "markdown",
   "id": "22b56bd7-6851-4121-85c2-facb5e9ab8bc",
   "metadata": {},
   "source": [
    " Save data to disk"
   ]
  },
  {
   "cell_type": "markdown",
   "id": "b72f51c0-8191-4476-88b9-155b8103fadb",
   "metadata": {},
   "source": [
    "### Description\n",
    "In this task, learners are tasked with implementing a Python function named `dump_data()` that automates the process of persisting sales data, product details, and product descriptions into structured files within a specified directory. The function should efficiently organize and dump each type of data into its corresponding file format: CSV for sales data, JSON for product details, and plain text for product descriptions. This exercise challenges learners to apply file I/O operations, directory management, and data serialization techniques in Python, ensuring they gain practical experience with data persistence, manipulation, and organization on the filesystem."
   ]
  },
  {
   "cell_type": "markdown",
   "id": "305cd9ac-9972-41cc-85ac-5212c3189ec8",
   "metadata": {},
   "source": [
    "### Requirements\n",
    "- Define a function named `dump_data()` that dumps product details, sales data, and product descriptions into files within a specified main folder.\n",
    "- The function should accept four parameters:\n",
    "  - `sales_data`: A dictionary containing sales data, with SKU as keys and a list of sales quantities for the last 14 days as values.\n",
    "  - `product_details`: A dictionary containing product details, with SKU as keys and details as values. Details include attributes like name, brand, model, specifications, price, and availability.\n",
    "  - `product_descriptions`: A dictionary containing product descriptions, with SKU as keys and the textual description of the product as values.\n",
    "  - `main_folder`: A string representing the location of the main folder, which should contain *product_details* and *product_descriptions* subfolders.\n",
    "- The function performs the following operations:\n",
    "  - Dumps the `sales_data` into a CSV file named *sales_data.csv* located in the *main_folder*. Each row in the CSV file represents the sales data for a product, with fields for the SKU and sales quantities for each of the 14 days.\n",
    "  - Dumps each entry in `product_details` into a separate JSON file within the *product_details* subfolder of the *main_folder*. Each file is named after the SKU of the product and contains the details of that product in JSON format.\n",
    "  - Dumps each product description from `product_descriptions` into a separate TXT file within the *product_descriptions* subfolder of the *main_folder*. Each file is named after the SKU of the product and contains the textual description of that product.\n",
    "- Prior to dumping product details and descriptions, the function checks if the respective subfolders exist. If not, it creates them.\n",
    "- Usage:\n",
    "  - The function is designed to persist the current state of sales data, product details, and product descriptions to the filesystem, allowing for data backup and recovery. It organizes the persisted data into a structured directory and file system based on the specified *main_folder* path."
   ]
  },
  {
   "cell_type": "code",
   "execution_count": 115,
   "id": "267de2c3-2aea-4345-8d6e-a04c0a8d865b",
   "metadata": {},
   "outputs": [],
   "source": [
    "def dump_data(sales_data, product_details, product_descriptions, main_folder):\n",
    "    \"\"\"\n",
    "    Dump product details, sales data, and product descriptions to files.\n",
    "\n",
    "    Parameters:\n",
    "        sales_data (dict): The dictionary containing sales data.\n",
    "        product_details (dict): The dictionary containing product details.\n",
    "        product_descriptions (dict): The dictionary containing product descriptions.\n",
    "        main_folder (str): The location of the main folder containing product_details and product_descriptions folders.\n",
    "    \"\"\"\n",
    "\n",
    "    # Dump sales data to CSV file\n",
    "    csv_file_path = os.path.join(main_folder, 'sales_data.csv')\n",
    "    with open(csv_file_path, 'w') as csv_file:\n",
    "        fieldnames = ['Product_SKU', *map(str, range(1, 15))]  # field names for SKU and 14 days as strings\n",
    "        csv_writer = csv.DictWriter(csv_file, fieldnames=fieldnames)\n",
    "        csv_writer.writeheader()\n",
    "        for sku, quantities in sales_data.items():\n",
    "            row = {'Product_SKU': sku}\n",
    "            for i, q in enumerate(quantities, start=1):\n",
    "                row[str(i)] = q\n",
    "            csv_writer.writerow(row)\n",
    "\n",
    "    # Dump product details to JSON files\n",
    "    details_dir = os.path.join(main_folder, 'product_details')\n",
    "    if not os.path.exists(details_dir):\n",
    "        os.makedirs(details_dir)\n",
    "    for sku, details in product_details.items():\n",
    "        json_file_path = os.path.join(details_dir, f'details_{sku}.json')\n",
    "        with open(json_file_path, 'w') as json_file:\n",
    "            json.dump(details, json_file)\n",
    "\n",
    "    # Dump product descriptions to TXT files\n",
    "    description_dir = os.path.join(main_folder, 'product_descriptions')\n",
    "    if not os.path.exists(description_dir):\n",
    "        os.makedirs(description_dir)\n",
    "    for sku, description in product_descriptions.items():\n",
    "        txt_file_path = os.path.join(description_dir, f'description_{sku}.txt')\n",
    "        with open(txt_file_path, 'w') as txt_file:\n",
    "            txt_file.write(description)"
   ]
  },
  {
   "cell_type": "markdown",
   "id": "48d504ec-cd14-429a-a593-ad5479a3346e",
   "metadata": {},
   "source": [
    "Check your function here."
   ]
  },
  {
   "cell_type": "code",
   "execution_count": 118,
   "id": "235d8375-077e-42f2-87e3-8c937993bc9b",
   "metadata": {},
   "outputs": [],
   "source": [
    "dump_data(sales_data, product_details, product_descriptions, main_folder_address)"
   ]
  },
  {
   "cell_type": "markdown",
   "id": "37b4fe21-84db-40da-afde-dcba2a36e989",
   "metadata": {},
   "source": [
    "You will notice that *mainfolder* now has new files in the product descriptions/details subfolders, as well as new rows in *sales_data.csv* corresponding to the products that you created in stage 2, and while checking your code."
   ]
  },
  {
   "cell_type": "markdown",
   "id": "8230679f-a1fe-472d-9799-49ccea17e663",
   "metadata": {},
   "source": [
    "### Checklist\n",
    "- Define the `dump_data()` function with the specified parameters.\n",
    "- Saved the sales data, product details and the product description into the respective files.\n",
    "- Ensured that the folder structure remains the same for future use."
   ]
  }
 ],
 "metadata": {
  "kernelspec": {
   "display_name": "Python 3 (ipykernel)",
   "language": "python",
   "name": "python3"
  },
  "language_info": {
   "codemirror_mode": {
    "name": "ipython",
    "version": 3
   },
   "file_extension": ".py",
   "mimetype": "text/x-python",
   "name": "python",
   "nbconvert_exporter": "python",
   "pygments_lexer": "ipython3",
   "version": "3.11.7"
  }
 },
 "nbformat": 4,
 "nbformat_minor": 5
}
